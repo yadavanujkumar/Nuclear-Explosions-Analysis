{
 "cells": [
  {
   "cell_type": "markdown",
   "metadata": {},
   "source": [
    "# Nuclear Explosions Data Analysis (1945-1998)\n",
    "\n",
    "## A Comprehensive Data Science Study\n",
    "\n",
    "This notebook provides a detailed analysis of nuclear explosions worldwide from 1945 to 1998. We'll explore patterns, trends, and insights from this historical dataset.\n",
    "\n",
    "**Author:** Data Science Analysis  \n",
    "**Dataset:** Nuclear Explosions (2046 records)  \n",
    "**Source:** DOE and other sources"
   ]
  },
  {
   "cell_type": "markdown",
   "metadata": {},
   "source": [
    "## 1. Setup and Data Loading"
   ]
  },
  {
   "cell_type": "code",
   "execution_count": null,
   "metadata": {},
   "outputs": [],
   "source": [
    "# Import required libraries\n",
    "import pandas as pd\n",
    "import numpy as np\n",
    "import matplotlib.pyplot as plt\n",
    "import seaborn as sns\n",
    "from scipy import stats\n",
    "import warnings\n",
    "warnings.filterwarnings('ignore')\n",
    "\n",
    "# Set visualization style\n",
    "plt.style.use('seaborn-v0_8-darkgrid')\n",
    "sns.set_palette(\"husl\")\n",
    "%matplotlib inline\n",
    "\n",
    "# Set figure size default\n",
    "plt.rcParams['figure.figsize'] = (12, 6)\n",
    "plt.rcParams['font.size'] = 10"
   ]
  },
  {
   "cell_type": "code",
   "execution_count": null,
   "metadata": {},
   "outputs": [],
   "source": [
    "# Load the dataset\n",
    "df = pd.read_csv('nuclear_explosions.csv')\n",
    "\n",
    "print(f\"Dataset loaded successfully!\")\n",
    "print(f\"Total records: {len(df)}\")\n",
    "print(f\"Columns: {df.shape[1]}\")"
   ]
  },
  {
   "cell_type": "markdown",
   "metadata": {},
   "source": [
    "## 2. Exploratory Data Analysis"
   ]
  },
  {
   "cell_type": "code",
   "execution_count": null,
   "metadata": {},
   "outputs": [],
   "source": [
    "# Display first few rows\n",
    "df.head(10)"
   ]
  },
  {
   "cell_type": "code",
   "execution_count": null,
   "metadata": {},
   "outputs": [],
   "source": [
    "# Dataset information\n",
    "df.info()"
   ]
  },
  {
   "cell_type": "code",
   "execution_count": null,
   "metadata": {},
   "outputs": [],
   "source": [
    "# Check for missing values\n",
    "missing_values = df.isnull().sum()\n",
    "print(\"Missing values per column:\")\n",
    "print(missing_values[missing_values > 0] if missing_values.sum() > 0 else \"No missing values!\")"
   ]
  },
  {
   "cell_type": "code",
   "execution_count": null,
   "metadata": {},
   "outputs": [],
   "source": [
    "# Statistical summary\n",
    "df.describe()"
   ]
  },
  {
   "cell_type": "markdown",
   "metadata": {},
   "source": [
    "## 3. Feature Engineering"
   ]
  },
  {
   "cell_type": "code",
   "execution_count": null,
   "metadata": {},
   "outputs": [],
   "source": [
    "# Create additional features for analysis\n",
    "df['Average.Yield'] = (df['Data.Yeild.Lower'] + df['Data.Yeild.Upper']) / 2\n",
    "df['Decade'] = (df['Date.Year'] // 10) * 10\n",
    "df['Yield.Category'] = pd.cut(df['Average.Yield'], \n",
    "                               bins=[0, 20, 150, 1000, np.inf],\n",
    "                               labels=['Low (<20kt)', 'Medium (20-150kt)', \n",
    "                                      'High (150-1000kt)', 'Very High (>1000kt)'])\n",
    "\n",
    "print(\"New features created:\")\n",
    "print(\"  - Average.Yield\")\n",
    "print(\"  - Decade\")\n",
    "print(\"  - Yield.Category\")"
   ]
  },
  {
   "cell_type": "markdown",
   "metadata": {},
   "source": [
    "## 4. Temporal Analysis"
   ]
  },
  {
   "cell_type": "code",
   "execution_count": null,
   "metadata": {},
   "outputs": [],
   "source": [
    "# Explosions over time\n",
    "yearly_counts = df.groupby('Date.Year').size()\n",
    "\n",
    "plt.figure(figsize=(16, 6))\n",
    "plt.plot(yearly_counts.index, yearly_counts.values, marker='o', linewidth=2, markersize=4)\n",
    "plt.xlabel('Year', fontsize=12)\n",
    "plt.ylabel('Number of Explosions', fontsize=12)\n",
    "plt.title('Nuclear Explosions Over Time (1945-1998)', fontsize=14, fontweight='bold')\n",
    "plt.grid(True, alpha=0.3)\n",
    "plt.axvline(x=1963, color='red', linestyle='--', alpha=0.5, label='Partial Test Ban Treaty')\n",
    "plt.axvline(x=1991, color='blue', linestyle='--', alpha=0.5, label='End of Cold War')\n",
    "plt.legend()\n",
    "plt.tight_layout()\n",
    "plt.show()\n",
    "\n",
    "print(f\"Peak year: {yearly_counts.idxmax()} with {yearly_counts.max()} explosions\")"
   ]
  },
  {
   "cell_type": "code",
   "execution_count": null,
   "metadata": {},
   "outputs": [],
   "source": [
    "# Decade-wise distribution\n",
    "decade_counts = df.groupby('Decade').size()\n",
    "\n",
    "plt.figure(figsize=(12, 6))\n",
    "plt.bar(decade_counts.index.astype(str), decade_counts.values, color='coral', edgecolor='black')\n",
    "plt.xlabel('Decade', fontsize=12)\n",
    "plt.ylabel('Number of Explosions', fontsize=12)\n",
    "plt.title('Nuclear Explosions by Decade', fontsize=14, fontweight='bold')\n",
    "plt.grid(axis='y', alpha=0.3)\n",
    "plt.tight_layout()\n",
    "plt.show()\n",
    "\n",
    "print(\"\\nExplosions by decade:\")\n",
    "print(decade_counts)"
   ]
  },
  {
   "cell_type": "code",
   "execution_count": null,
   "metadata": {},
   "outputs": [],
   "source": [
    "# Cumulative explosions\n",
    "cumulative = yearly_counts.cumsum()\n",
    "\n",
    "plt.figure(figsize=(14, 6))\n",
    "plt.fill_between(cumulative.index, cumulative.values, alpha=0.7, color='skyblue')\n",
    "plt.plot(cumulative.index, cumulative.values, color='navy', linewidth=2)\n",
    "plt.xlabel('Year', fontsize=12)\n",
    "plt.ylabel('Cumulative Number of Explosions', fontsize=12)\n",
    "plt.title('Cumulative Nuclear Explosions Over Time', fontsize=14, fontweight='bold')\n",
    "plt.grid(True, alpha=0.3)\n",
    "plt.tight_layout()\n",
    "plt.show()"
   ]
  },
  {
   "cell_type": "markdown",
   "metadata": {},
   "source": [
    "## 5. Country-wise Analysis"
   ]
  },
  {
   "cell_type": "code",
   "execution_count": null,
   "metadata": {},
   "outputs": [],
   "source": [
    "# Nuclear explosions by country\n",
    "country_counts = df['Location.Country'].value_counts()\n",
    "\n",
    "plt.figure(figsize=(12, 6))\n",
    "plt.barh(range(len(country_counts)), country_counts.values, color='steelblue')\n",
    "plt.yticks(range(len(country_counts)), country_counts.index)\n",
    "plt.xlabel('Number of Explosions', fontsize=12)\n",
    "plt.title('Nuclear Explosions by Country', fontsize=14, fontweight='bold')\n",
    "plt.gca().invert_yaxis()\n",
    "plt.grid(axis='x', alpha=0.3)\n",
    "plt.tight_layout()\n",
    "plt.show()\n",
    "\n",
    "print(\"\\nCountry statistics:\")\n",
    "print(country_counts)"
   ]
  },
  {
   "cell_type": "code",
   "execution_count": null,
   "metadata": {},
   "outputs": [],
   "source": [
    "# Top countries over time\n",
    "top_countries = country_counts.head(5).index\n",
    "\n",
    "plt.figure(figsize=(16, 8))\n",
    "for country in top_countries:\n",
    "    country_yearly = df[df['Location.Country'] == country].groupby('Date.Year').size()\n",
    "    plt.plot(country_yearly.index, country_yearly.values, marker='o', label=country, linewidth=2, markersize=4)\n",
    "\n",
    "plt.xlabel('Year', fontsize=12)\n",
    "plt.ylabel('Number of Explosions', fontsize=12)\n",
    "plt.title('Top 5 Countries: Nuclear Testing Timeline', fontsize=14, fontweight='bold')\n",
    "plt.legend(fontsize=11)\n",
    "plt.grid(True, alpha=0.3)\n",
    "plt.tight_layout()\n",
    "plt.show()"
   ]
  },
  {
   "cell_type": "code",
   "execution_count": null,
   "metadata": {},
   "outputs": [],
   "source": [
    "# Total yield by country\n",
    "country_yield = df.groupby('Location.Country')['Average.Yield'].agg(['sum', 'mean', 'max', 'count'])\n",
    "country_yield = country_yield.sort_values('sum', ascending=False)\n",
    "\n",
    "print(\"Total yield by country (kilotons):\")\n",
    "print(country_yield)"
   ]
  },
  {
   "cell_type": "markdown",
   "metadata": {},
   "source": [
    "## 6. Purpose and Type Analysis"
   ]
  },
  {
   "cell_type": "code",
   "execution_count": null,
   "metadata": {},
   "outputs": [],
   "source": [
    "# Purpose distribution\n",
    "purpose_counts = df['Data.Purpose'].value_counts()\n",
    "\n",
    "fig, axes = plt.subplots(1, 2, figsize=(16, 6))\n",
    "\n",
    "# Pie chart\n",
    "axes[0].pie(purpose_counts.values, labels=purpose_counts.index, autopct='%1.1f%%',\n",
    "           startangle=90, textprops={'fontsize': 11})\n",
    "axes[0].set_title('Distribution by Purpose', fontsize=14, fontweight='bold')\n",
    "\n",
    "# Bar chart\n",
    "axes[1].bar(range(len(purpose_counts)), purpose_counts.values, color='teal')\n",
    "axes[1].set_xticks(range(len(purpose_counts)))\n",
    "axes[1].set_xticklabels(purpose_counts.index, rotation=45, ha='right')\n",
    "axes[1].set_ylabel('Number of Explosions', fontsize=12)\n",
    "axes[1].set_title('Explosions by Purpose', fontsize=14, fontweight='bold')\n",
    "axes[1].grid(axis='y', alpha=0.3)\n",
    "\n",
    "plt.tight_layout()\n",
    "plt.show()\n",
    "\n",
    "print(\"\\nPurpose statistics:\")\n",
    "print(purpose_counts)"
   ]
  },
  {
   "cell_type": "code",
   "execution_count": null,
   "metadata": {},
   "outputs": [],
   "source": [
    "# Type distribution\n",
    "type_counts = df['Data.Type'].value_counts()\n",
    "\n",
    "plt.figure(figsize=(14, 7))\n",
    "plt.pie(type_counts.values, labels=type_counts.index, autopct='%1.1f%%',\n",
    "       startangle=90, textprops={'fontsize': 10})\n",
    "plt.title('Distribution by Explosion Type', fontsize=14, fontweight='bold')\n",
    "plt.tight_layout()\n",
    "plt.show()\n",
    "\n",
    "print(\"\\nType statistics:\")\n",
    "print(type_counts)"
   ]
  },
  {
   "cell_type": "code",
   "execution_count": null,
   "metadata": {},
   "outputs": [],
   "source": [
    "# Country vs Purpose heatmap\n",
    "country_purpose = pd.crosstab(df['Location.Country'], df['Data.Purpose'])\n",
    "\n",
    "plt.figure(figsize=(12, 8))\n",
    "sns.heatmap(country_purpose, annot=True, fmt='d', cmap='YlOrRd', \n",
    "           cbar_kws={'label': 'Number of Explosions'})\n",
    "plt.title('Country vs Purpose Heatmap', fontsize=14, fontweight='bold')\n",
    "plt.xlabel('Purpose', fontsize=12)\n",
    "plt.ylabel('Country', fontsize=12)\n",
    "plt.tight_layout()\n",
    "plt.show()"
   ]
  },
  {
   "cell_type": "markdown",
   "metadata": {},
   "source": [
    "## 7. Yield Analysis"
   ]
  },
  {
   "cell_type": "code",
   "execution_count": null,
   "metadata": {},
   "outputs": [],
   "source": [
    "# Yield statistics\n",
    "print(\"Yield Statistics (kilotons):\")\n",
    "print(f\"Mean: {df['Average.Yield'].mean():.2f}\")\n",
    "print(f\"Median: {df['Average.Yield'].median():.2f}\")\n",
    "print(f\"Std Dev: {df['Average.Yield'].std():.2f}\")\n",
    "print(f\"Min: {df['Average.Yield'].min():.2f}\")\n",
    "print(f\"Max: {df['Average.Yield'].max():.2f}\")\n",
    "\n",
    "# Distribution\n",
    "plt.figure(figsize=(14, 6))\n",
    "plt.hist(df['Average.Yield'], bins=50, color='orange', edgecolor='black', alpha=0.7)\n",
    "plt.xlabel('Yield (kilotons)', fontsize=12)\n",
    "plt.ylabel('Frequency (log scale)', fontsize=12)\n",
    "plt.title('Distribution of Nuclear Explosion Yields', fontsize=14, fontweight='bold')\n",
    "plt.yscale('log')\n",
    "plt.grid(True, alpha=0.3)\n",
    "plt.tight_layout()\n",
    "plt.show()"
   ]
  },
  {
   "cell_type": "code",
   "execution_count": null,
   "metadata": {},
   "outputs": [],
   "source": [
    "# Top 10 largest explosions\n",
    "print(\"Top 10 Largest Nuclear Explosions:\")\n",
    "largest = df.nlargest(10, 'Average.Yield')[['Data.Name', 'Location.Country', \n",
    "                                              'Date.Year', 'Average.Yield', 'Data.Type']]\n",
    "display(largest)"
   ]
  },
  {
   "cell_type": "code",
   "execution_count": null,
   "metadata": {},
   "outputs": [],
   "source": [
    "# Yield by country (boxplot)\n",
    "top_5_countries = country_counts.head(5).index\n",
    "country_yields = [df[df['Location.Country'] == country]['Average.Yield'].values \n",
    "                 for country in top_5_countries]\n",
    "\n",
    "plt.figure(figsize=(12, 6))\n",
    "plt.boxplot(country_yields, labels=top_5_countries)\n",
    "plt.ylabel('Yield (kilotons)', fontsize=12)\n",
    "plt.title('Yield Distribution by Top 5 Countries', fontsize=14, fontweight='bold')\n",
    "plt.yscale('log')\n",
    "plt.grid(True, alpha=0.3)\n",
    "plt.tight_layout()\n",
    "plt.show()"
   ]
  },
  {
   "cell_type": "code",
   "execution_count": null,
   "metadata": {},
   "outputs": [],
   "source": [
    "# Yield over time\n",
    "plt.figure(figsize=(16, 6))\n",
    "plt.scatter(df['Date.Year'], df['Average.Yield'], alpha=0.3, s=10)\n",
    "yearly_avg_yield = df.groupby('Date.Year')['Average.Yield'].mean()\n",
    "plt.plot(yearly_avg_yield.index, yearly_avg_yield.values, \n",
    "        color='red', linewidth=2, label='Average Yield')\n",
    "plt.xlabel('Year', fontsize=12)\n",
    "plt.ylabel('Yield (kilotons)', fontsize=12)\n",
    "plt.title('Nuclear Explosion Yield Over Time', fontsize=14, fontweight='bold')\n",
    "plt.yscale('log')\n",
    "plt.legend()\n",
    "plt.grid(True, alpha=0.3)\n",
    "plt.tight_layout()\n",
    "plt.show()"
   ]
  },
  {
   "cell_type": "code",
   "execution_count": null,
   "metadata": {},
   "outputs": [],
   "source": [
    "# Yield categories\n",
    "yield_categories = df['Yield.Category'].value_counts()\n",
    "\n",
    "plt.figure(figsize=(10, 6))\n",
    "colors = ['green', 'yellow', 'orange', 'red']\n",
    "plt.bar(range(len(yield_categories)), yield_categories.values, color=colors)\n",
    "plt.xticks(range(len(yield_categories)), yield_categories.index, rotation=45, ha='right')\n",
    "plt.ylabel('Number of Explosions', fontsize=12)\n",
    "plt.title('Explosions by Yield Category', fontsize=14, fontweight='bold')\n",
    "plt.grid(axis='y', alpha=0.3)\n",
    "plt.tight_layout()\n",
    "plt.show()\n",
    "\n",
    "print(\"\\nYield category distribution:\")\n",
    "print(yield_categories)"
   ]
  },
  {
   "cell_type": "markdown",
   "metadata": {},
   "source": [
    "## 8. Geographic Analysis"
   ]
  },
  {
   "cell_type": "code",
   "execution_count": null,
   "metadata": {},
   "outputs": [],
   "source": [
    "# Geographic distribution\n",
    "plt.figure(figsize=(16, 8))\n",
    "for country in country_counts.head(5).index:\n",
    "    country_data = df[df['Location.Country'] == country]\n",
    "    plt.scatter(country_data['Location.Cordinates.Longitude'], \n",
    "               country_data['Location.Cordinates.Latitude'],\n",
    "               alpha=0.6, s=50, label=country)\n",
    "plt.xlabel('Longitude', fontsize=12)\n",
    "plt.ylabel('Latitude', fontsize=12)\n",
    "plt.title('Geographic Distribution of Nuclear Tests (Top 5 Countries)', fontsize=14, fontweight='bold')\n",
    "plt.legend(fontsize=11)\n",
    "plt.grid(True, alpha=0.3)\n",
    "plt.tight_layout()\n",
    "plt.show()"
   ]
  },
  {
   "cell_type": "code",
   "execution_count": null,
   "metadata": {},
   "outputs": [],
   "source": [
    "# Regional distribution\n",
    "region_counts = df['Location.Region'].value_counts().head(15)\n",
    "\n",
    "plt.figure(figsize=(12, 8))\n",
    "plt.barh(range(len(region_counts)), region_counts.values, color='teal')\n",
    "plt.yticks(range(len(region_counts)), region_counts.index)\n",
    "plt.xlabel('Number of Explosions', fontsize=12)\n",
    "plt.title('Top 15 Nuclear Test Regions', fontsize=14, fontweight='bold')\n",
    "plt.gca().invert_yaxis()\n",
    "plt.grid(axis='x', alpha=0.3)\n",
    "plt.tight_layout()\n",
    "plt.show()"
   ]
  },
  {
   "cell_type": "markdown",
   "metadata": {},
   "source": [
    "## 9. Statistical Analysis"
   ]
  },
  {
   "cell_type": "code",
   "execution_count": null,
   "metadata": {},
   "outputs": [],
   "source": [
    "# Correlation analysis\n",
    "correlation_cols = ['Location.Cordinates.Latitude', 'Location.Cordinates.Longitude',\n",
    "                   'Data.Magnitude.Body', 'Data.Magnitude.Surface',\n",
    "                   'Location.Cordinates.Depth', 'Average.Yield', 'Date.Year']\n",
    "\n",
    "corr_matrix = df[correlation_cols].corr()\n",
    "\n",
    "plt.figure(figsize=(10, 8))\n",
    "sns.heatmap(corr_matrix, annot=True, cmap='coolwarm', center=0, \n",
    "           fmt='.2f', square=True, linewidths=1)\n",
    "plt.title('Correlation Matrix of Numerical Features', fontsize=14, fontweight='bold')\n",
    "plt.tight_layout()\n",
    "plt.show()"
   ]
  },
  {
   "cell_type": "code",
   "execution_count": null,
   "metadata": {},
   "outputs": [],
   "source": [
    "# Compare yields between countries (statistical test)\n",
    "usa_yields = df[df['Location.Country'] == 'USA']['Average.Yield']\n",
    "ussr_yields = df[df['Location.Country'] == 'USSR']['Average.Yield']\n",
    "\n",
    "# T-test\n",
    "t_stat, p_value = stats.ttest_ind(usa_yields, ussr_yields, equal_var=False)\n",
    "\n",
    "print(\"Statistical Comparison: USA vs USSR Yields\")\n",
    "print(f\"USA - Mean: {usa_yields.mean():.2f} kt, Median: {usa_yields.median():.2f} kt\")\n",
    "print(f\"USSR - Mean: {ussr_yields.mean():.2f} kt, Median: {ussr_yields.median():.2f} kt\")\n",
    "print(f\"\\nT-test results:\")\n",
    "print(f\"  t-statistic: {t_stat:.4f}\")\n",
    "print(f\"  p-value: {p_value:.4f}\")\n",
    "if p_value < 0.05:\n",
    "    print(\"  Result: Statistically significant difference (p < 0.05)\")\n",
    "else:\n",
    "    print(\"  Result: No statistically significant difference (p >= 0.05)\")"
   ]
  },
  {
   "cell_type": "markdown",
   "metadata": {},
   "source": [
    "## 10. Key Insights & Conclusions"
   ]
  },
  {
   "cell_type": "code",
   "execution_count": null,
   "metadata": {},
   "outputs": [],
   "source": [
    "# Generate comprehensive summary\n",
    "print(\"=\" * 80)\n",
    "print(\"KEY INSIGHTS FROM NUCLEAR EXPLOSIONS ANALYSIS\")\n",
    "print(\"=\" * 80)\n",
    "\n",
    "insights = [\n",
    "    f\"1. Total nuclear explosions: {len(df)}\",\n",
    "    f\"2. Time period: {df['Date.Year'].min()} - {df['Date.Year'].max()} ({df['Date.Year'].max() - df['Date.Year'].min()} years)\",\n",
    "    f\"3. Countries conducting tests: {df['Location.Country'].nunique()}\",\n",
    "    f\"4. Top 3 countries: {', '.join([f'{c} ({country_counts[c]})' for c in country_counts.head(3).index])}\",\n",
    "    f\"5. Peak testing year: {yearly_counts.idxmax()} ({yearly_counts.max()} explosions)\",\n",
    "    f\"6. Average explosion yield: {df['Average.Yield'].mean():.2f} kilotons\",\n",
    "    f\"7. Largest explosion: {df['Average.Yield'].max():.2f} kt ({df.loc[df['Average.Yield'].idxmax(), 'Data.Name']})\",\n",
    "    f\"8. Most common purpose: {df['Data.Purpose'].value_counts().index[0]}\",\n",
    "    f\"9. Most common type: {df['Data.Type'].value_counts().index[0]}\",\n",
    "    f\"10. Cold War era (1947-1991): {len(df[(df['Date.Year'] >= 1947) & (df['Date.Year'] <= 1991)])} tests\"\n",
    "]\n",
    "\n",
    "for insight in insights:\n",
    "    print(insight)\n",
    "\n",
    "print(\"\\n\" + \"=\" * 80)\n",
    "print(\"CONCLUSIONS\")\n",
    "print(\"=\" * 80)\n",
    "print(\"\"\"\n",
    "1. Nuclear testing peaked during the Cold War era, particularly in the 1960s\n",
    "2. USA and USSR conducted the majority of tests (>85% combined)\n",
    "3. Underground testing became the dominant method after the 1963 treaty\n",
    "4. Testing dramatically decreased after the end of the Cold War in 1991\n",
    "5. The largest explosions were conducted by the USSR (Tsar Bomba ~50,000 kt)\n",
    "6. Most tests were for weapons development (Wr) rather than combat\n",
    "7. Only 2 nuclear weapons were used in combat (Hiroshima and Nagasaki, 1945)\n",
    "\"\"\")"
   ]
  },
  {
   "cell_type": "markdown",
   "metadata": {},
   "source": [
    "## Summary\n",
    "\n",
    "This comprehensive analysis has revealed important patterns in nuclear testing history:\n",
    "\n",
    "- **Temporal patterns**: Testing peaked in the 1960s and declined significantly after 1991\n",
    "- **Geographic concentration**: Most tests were conducted by the USA and USSR\n",
    "- **Yield trends**: Wide variation in yields, with the largest being the Soviet Tsar Bomba\n",
    "- **Purpose**: Overwhelming majority for weapons research, not combat\n",
    "- **Impact of treaties**: Clear impact of test ban treaties on testing patterns\n",
    "\n",
    "This dataset provides crucial insights into the nuclear age and the arms race during the Cold War period."
   ]
  }
 ],
 "metadata": {
  "kernelspec": {
   "display_name": "Python 3",
   "language": "python",
   "name": "python3"
  },
  "language_info": {
   "codemirror_mode": {
    "name": "ipython",
    "version": 3
   },
   "file_extension": ".py",
   "mimetype": "text/x-python",
   "name": "python",
   "nbconvert_exporter": "python",
   "pygments_lexer": "ipython3",
   "version": "3.8.0"
  }
 },
 "nbformat": 4,
 "nbformat_minor": 4
}
